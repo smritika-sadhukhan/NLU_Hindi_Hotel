{
  "nbformat": 4,
  "nbformat_minor": 0,
  "metadata": {
    "colab": {
      "name": "Hindi_Hotel_Main.ipynb",
      "provenance": [],
      "collapsed_sections": []
    },
    "kernelspec": {
      "name": "python3",
      "display_name": "Python 3"
    }
  },
  "cells": [
    {
      "cell_type": "code",
      "metadata": {
        "id": "MOFUyMjY7zcZ",
        "colab_type": "code",
        "colab": {
          "base_uri": "https://localhost:8080/",
          "height": 123
        },
        "outputId": "809bf4e7-60e5-498a-8603-9625cc2e50c9"
      },
      "source": [
        "!git clone https://github.com/smritika-sadhukhan/NLU_Hindi_Hotel.git"
      ],
      "execution_count": 19,
      "outputs": [
        {
          "output_type": "stream",
          "text": [
            "Cloning into 'NLU_Hindi_Hotel'...\n",
            "remote: Enumerating objects: 11, done.\u001b[K\n",
            "remote: Counting objects: 100% (11/11), done.\u001b[K\n",
            "remote: Compressing objects: 100% (8/8), done.\u001b[K\n",
            "remote: Total 11 (delta 0), reused 0 (delta 0), pack-reused 0\u001b[K\n",
            "Unpacking objects: 100% (11/11), done.\n"
          ],
          "name": "stdout"
        }
      ]
    },
    {
      "cell_type": "code",
      "metadata": {
        "id": "ZtoixLMp3RRK",
        "colab_type": "code",
        "colab": {}
      },
      "source": [
        "from NLU_Hindi_Hotel.Hindi_HOTEL_NLU.util.Testing_hindi_hotel import predict_intent"
      ],
      "execution_count": 21,
      "outputs": []
    },
    {
      "cell_type": "code",
      "metadata": {
        "id": "3Y9yBpxz2zCJ",
        "colab_type": "code",
        "colab": {}
      },
      "source": [
        "data=['मुझे कमरा बुक करे', \n",
        "'मुझे रसोई वाले कमरे दिखाओ',\n",
        "'मुझे कोलकाता में कमरे दिखाएं',\n",
        "'3 कमरों में से 2 कमरे रद्द करें',\n",
        "'भुगतान रोकें',\n",
        "'ठीक है मैं भुगतान करूंगा',\n",
        "'मुझे होटल हयात के बारे में बताओ',\n",
        "'भुगतान रद्द करें',\n",
        "'मुझे होटल दिखाओ',\n",
        "'इसे रोको ',\n",
        "'मुझे कोलकाता में 5 सितारा कमरे दिखाएं',\n",
        "'मैं इस कमरे के लिए 1200 रुपये नहीं लूंगा',\n",
        "'ठीक है आज मुझे सबसे अच्छे होटलों की पेशकश करें',\n",
        "'भुगतान के साथ ठीक है',\n",
        "'आज हम जिस होटल में जाएँगे उसका एक पूल होगा',\n",
        "'मुझे होटल के बारे में अधिक जानकारी दें',\n",
        "'कोलकाता में होटलों की कीमत क्या है',\n",
        "'मैंने rs1200 का भुगतान किया है',\n",
        "'उस कमरे के लिए कोई पैसा नहीं',\n",
        "'ठीक है करो',\n",
        "'बंद करो मैं कोई भुगतान नहीं करूंगा ',\n",
        "'मैं भुगतान करने के लिए तैयार हूं',\n",
        "'मुझे केवल 1 कमरा चाहिए',\n",
        "'मैं केवल 5 सितारा होटल देखना चाहता हूं',\n",
        "'मुझे रिहायशी जगह के बारे में अधिक जानकारी दें',\n",
        "'होटल की दर क्या हैमैं मुंबई होटल जाना चाहता हूं',\n",
        "'मुंबई में मुझे सबसे अच्छा होटल दिखाओ']\n",
        "\n",
        "  "
      ],
      "execution_count": 26,
      "outputs": []
    },
    {
      "cell_type": "code",
      "metadata": {
        "id": "BtcK9DgM37Z-",
        "colab_type": "code",
        "colab": {
          "base_uri": "https://localhost:8080/",
          "height": 1000
        },
        "outputId": "03a07e70-c3fd-448f-b21f-f08663ead938"
      },
      "source": [
        "predict_intent(data)"
      ],
      "execution_count": 27,
      "outputs": [
        {
          "output_type": "stream",
          "text": [
            "मुझे कमरा बुक करे\n",
            "--> HotelSearch\n",
            " \n",
            "मुझे रसोई वाले कमरे दिखाओ\n",
            "--> HotelSearch_Filter\n",
            " \n",
            "मुझे कोलकाता में कमरे दिखाएं\n",
            "--> HotelSearch_Filter\n",
            " \n",
            "3 कमरों में से 2 कमरे रद्द करें\n",
            "--> Negation\n",
            " \n",
            "भुगतान रोकें\n",
            "--> Affirmation\n",
            " \n",
            "ठीक है मैं भुगतान करूंगा\n",
            "--> Affirmation_Payment\n",
            " \n",
            "मुझे होटल हयात के बारे में बताओ\n",
            "--> HotelDetail\n",
            " \n",
            "भुगतान रद्द करें\n",
            "--> Negation\n",
            " \n",
            "मुझे होटल दिखाओ\n",
            "--> HotelSearch\n",
            " \n",
            "इसे रोको \n",
            "--> Affirmation\n",
            " \n",
            "मुझे कोलकाता में 5 सितारा कमरे दिखाएं\n",
            "--> HotelSearch_Filter\n",
            " \n",
            "मैं इस कमरे के लिए 1200 रुपये नहीं लूंगा\n",
            "--> Affirmation_Payment\n",
            " \n",
            "ठीक है आज मुझे सबसे अच्छे होटलों की पेशकश करें\n",
            "--> HotelSearch\n",
            " \n",
            "भुगतान के साथ ठीक है\n",
            "--> Affirmation\n",
            " \n",
            "आज हम जिस होटल में जाएँगे उसका एक पूल होगा\n",
            "--> HotelSearch_Filter\n",
            " \n",
            "मुझे होटल के बारे में अधिक जानकारी दें\n",
            "--> HotelDetail\n",
            " \n",
            "कोलकाता में होटलों की कीमत क्या है\n",
            "--> HotelSearch\n",
            " \n",
            "मैंने rs1200 का भुगतान किया है\n",
            "--> Affirmation_Payment\n",
            " \n",
            "उस कमरे के लिए कोई पैसा नहीं\n",
            "--> Negation_Payment\n",
            " \n",
            "ठीक है करो\n",
            "--> HotelSearch_Filter\n",
            " \n",
            "बंद करो मैं कोई भुगतान नहीं करूंगा \n",
            "--> Negation_Payment\n",
            " \n",
            "मैं भुगतान करने के लिए तैयार हूं\n",
            "--> Affirmation_Payment\n",
            " \n",
            "मुझे केवल 1 कमरा चाहिए\n",
            "--> HotelSearch\n",
            " \n",
            "मैं केवल 5 सितारा होटल देखना चाहता हूं\n",
            "--> HotelSearch_Filter\n",
            " \n",
            "मुझे रिहायशी जगह के बारे में अधिक जानकारी दें\n",
            "--> HotelSearch_Filter\n",
            " \n",
            "होटल की दर क्या हैमैं मुंबई होटल जाना चाहता हूं\n",
            "--> HotelSearch\n",
            " \n",
            "मुंबई में मुझे सबसे अच्छा होटल दिखाओ\n",
            "--> HotelSearch_Filter\n",
            " \n"
          ],
          "name": "stdout"
        }
      ]
    },
    {
      "cell_type": "code",
      "metadata": {
        "id": "BlYMZq-a8Mne",
        "colab_type": "code",
        "colab": {}
      },
      "source": [
        ""
      ],
      "execution_count": null,
      "outputs": []
    }
  ]
}